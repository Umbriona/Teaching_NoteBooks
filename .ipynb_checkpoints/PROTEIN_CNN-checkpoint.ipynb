{
 "cells": [
  {
   "cell_type": "markdown",
   "metadata": {},
   "source": [
    "# Enzyme optimal temperature prediction using CNN \n",
    "\n",
    "In this note book we will construct a model that predicts the optimal temperature for enzymes. The data set we will be using consists of protein enzymes anotated with experimentaly measured optimal temperatures. We will need some simple preprocessing to make the data interpretable by the model. The model will consist of an embedding layer, convolutional layers and at the end a prediction layer. "
   ]
  },
  {
   "cell_type": "code",
   "execution_count": 1,
   "metadata": {},
   "outputs": [],
   "source": [
    "# imports\n",
    "\n",
    "import numpy as np\n",
    "import tensorflow as tf\n",
    "from Bio import SeqIO\n",
    "import matplotlib.pyplot as plt\n",
    "from sklearn.model_selection import train_test_split\n",
    "from utils import Preprocessing  as pre\n",
    "from utils import test"
   ]
  },
  {
   "cell_type": "markdown",
   "metadata": {},
   "source": [
    "# Preprocessing\n",
    "The data is in the form of fasta files. The sequences is coded as a strings with each amino acid encoded as a letter in the alphabet <span style=\"color:red\"> \"ACDEFGHIKLMNPQRSTVWY\"</span>. For the model to be able to read in the data we need to encode the residues not in the alphabet but as integers. The different sequences is of different lengths which also needs to be dealth with. The easiest way to do this is to padd the sequence to a specified max length at the end with an integer other then those used to code for the amino acids. In the function to_int in the Preprocessing module all amino acids are coded with integers ranging from 0-19, the padding and any unrecogniced amino acid are coded as integer 20.  "
   ]
  },
  {
   "cell_type": "code",
   "execution_count": 2,
   "metadata": {},
   "outputs": [
    {
     "name": "stdout",
     "output_type": "stream",
     "text": [
      ">K9L4P7 37.0\r\n",
      "MKSTIITSILFSVATVQAYSPAEQIDVQSHLLSDPTKVEGKTYDYVIAGGGLTGLTVASK\r\n",
      "LSENPKIKVLVIEKGFYESNDGPIIEDPNAYGEIFGTSVDQNYLTVPLINNRTGEIKSGL\r\n",
      "GLGGSTLINGDSWTRPDKVQIDSWEKVFGMEGWNWDNVFQYMQKAERSRPPTAAQIEAGH\r\n",
      "FYDPACHGTDGTVHAGPRDNGKPWSPLMRALMNTVSAFGVPVQKDFHCGHPRGVSMIPNN\r\n",
      "LHENQIRADAAREWLLPNYQRDNLQILTGQKVGKVLFNQTASGPKAVGVNFGTNKAVNFN\r\n",
      "VYAKQEVLLAAGSAISPLILEYSGIGIKSVLDKAGVKQLLELPVGLNMQDQTTTTVRSRA\r\n",
      "NNAPGQGQAAYFANFTEVLGDHAAQGINLLDTKLDQWAEETVARGGFHNVTALKIQYENY\r\n",
      "RNWLLDEDVAFAELFFDTEGKINFDIWNLIPFTRGSVHILSSDPYLWQYANDPKFFMNEL\r\n",
      "DLLGQAAATKLGRELSSAGEMKKYYAGETIPGDNLPQDATVEQWEDYVMMNFRPNWHAVS\r\n",
      "TCSMMSRELGGVVDATAKVYGTQGLRVIDGSIPPTQVSSHVMTVFYGMALRIAESVLEDY\r\n",
      "AKSA\r\n",
      ">Q9L7P2 42.0\r\n",
      "MQTPKLIRPTLLSMAILSSMAWATGASAALVPPKGYDAPIEKMKTGDHNFSCEAIPKPYT\r\n",
      "DKLVFRSKYEGSDKARATLNAVSEEAFRDATKDITTLERGVSKVVMQYMRDGRPEQLDCA\r\n",
      "LNMMTTWAKADALESREFNHTGKSMRKWALGSMSSAYLRLKFSESHPLANRQQDAKIIET\r\n",
      "WFSKLADQVVSDWSNLPLEKINNHSYWAAWSVMATAVATNRQDLFDWAVKEYKVAANQVD\r\n",
      "KDGFLPNEMKRRQRALSYHNYALPPLAMIASFAQANGVDLRPENNGALKRLGDRVLAGVK\r\n",
      "DPSIFAEHNGEKQDMTDLKKDPKFAWLEPYCSLYTCSPDVLEEKHEKQPFKTFRLGGDLT\r\n",
      "KVYDPTHEKGDKGDNDGS\r\n"
     ]
    }
   ],
   "source": [
    "# First look at raw data \n",
    "! head --lines=20 data/topt.fasta"
   ]
  },
  {
   "cell_type": "code",
   "execution_count": 67,
   "metadata": {},
   "outputs": [],
   "source": [
    "# import and preprocess data with module to_int in Preprocessing module\n",
    "\n",
    "MAX_SEQ_LEN = 512\n",
    "\n",
    "data = {'id': [], 'seq': [], 'seq_int': [], 'prop': []}\n",
    "for i, rec in enumerate(SeqIO.parse('data/topt.fasta','fasta')):\n",
    "    if len(rec.seq) > MAX_SEQ_LEN:  # Filter out sequences longer then specified by MAX_SEQ_LEN\n",
    "        continue\n",
    "    data['id'].append(rec.id)\n",
    "    data['seq'].append(rec.seq)\n",
    "    data['seq_int'].append(pre.to_int(rec.seq, MAX_SEQ_LEN))\n",
    "    data['prop'].append(np.array(rec.description.split()[-1], dtype=np.float32)) \n"
   ]
  },
  {
   "cell_type": "markdown",
   "metadata": {},
   "source": [
    "### Task 1\n",
    "Instead of padding with a separate integer it is also common to repeat shorter sequences to the specified max length. This can be helpfull when using BatchNormalization in your model as the different length padding can distort the statistics of the sequences. This functionality is not present in the module Preprocessing, instead you will implement this function below.\n",
    "\n",
    "Specificaly: create a function that repeats sequences that is shorter then the max length specified. When not a whole sequnce can be repeated within the max length choos only the first part of the sequence that fitts te missing part."
   ]
  },
  {
   "cell_type": "code",
   "execution_count": null,
   "metadata": {},
   "outputs": [],
   "source": [
    "def repeat(seq, max_length):\n",
    "    return pass"
   ]
  },
  {
   "cell_type": "code",
   "execution_count": null,
   "metadata": {},
   "outputs": [],
   "source": [
    "# Testing repeat module. Too Do"
   ]
  },
  {
   "cell_type": "code",
   "execution_count": 68,
   "metadata": {},
   "outputs": [
    {
     "name": "stdout",
     "output_type": "stream",
     "text": [
      "id:  Q9L7P2\n",
      "seq:  MQTPKLIRPTLLSMAILSSMAWATGASAALVPPKGYDAPIEKMKTGDHNFSCEAIPKPYTDKLVFRSKYEGSDKARATLNAVSEEAFRDATKDITTLERGVSKVVMQYMRDGRPEQLDCALNMMTTWAKADALESREFNHTGKSMRKWALGSMSSAYLRLKFSESHPLANRQQDAKIIETWFSKLADQVVSDWSNLPLEKINNHSYWAAWSVMATAVATNRQDLFDWAVKEYKVAANQVDKDGFLPNEMKRRQRALSYHNYALPPLAMIASFAQANGVDLRPENNGALKRLGDRVLAGVKDPSIFAEHNGEKQDMTDLKKDPKFAWLEPYCSLYTCSPDVLEEKHEKQPFKTFRLGGDLTKVYDPTHEKGDKGDNDGS\n",
      "seq int: [10. 13. 16. 12.  8.  9.  7. 14. 12. 16.  9.  9. 15. 10.  0.  7.  9. 15.\n",
      " 15. 10.  0. 18.  0. 16.  5.  0. 15.  0.  0.  9. 17. 12. 12.  8.  5. 19.\n",
      "  2.  0. 12.  7.  3.  8. 10.  8. 16.  5.  2.  6. 11.  4. 15.  1.  3.  0.\n",
      "  7. 12.  8. 12. 19. 16.  2.  8.  9. 17.  4. 14. 15.  8. 19.  3.  5. 15.\n",
      "  2.  8.  0. 14.  0. 16.  9. 11.  0. 17. 15.  3.  3.  0.  4. 14.  2.  0.\n",
      " 16.  8.  2.  7. 16. 16.  9.  3. 14.  5. 17. 15.  8. 17. 17. 10. 13. 19.\n",
      " 10. 14.  2.  5. 14. 12.  3. 13.  9.  2.  1.  0.  9. 11. 10. 10. 16. 16.\n",
      " 18.  0.  8.  0.  2.  0.  9.  3. 15. 14.  3.  4. 11.  6. 16.  5.  8. 15.\n",
      " 10. 14.  8. 18.  0.  9.  5. 15. 10. 15. 15.  0. 19.  9. 14.  9.  8.  4.\n",
      " 15.  3. 15.  6. 12.  9.  0. 11. 14. 13. 13.  2.  0.  8.  7.  7.  3. 16.\n",
      " 18.  4. 15.  8.  9.  0.  2. 13. 17. 17. 15.  2. 18. 15. 11.  9. 12.  9.\n",
      "  3.  8.  7. 11. 11.  6. 15. 19. 18.  0.  0. 18. 15. 17. 10.  0. 16.  0.\n",
      " 17.  0. 16. 11. 14. 13.  2.  9.  4.  2. 18.  0. 17.  8.  3. 19.  8. 17.\n",
      "  0.  0. 11. 13. 17.  2.  8.  2.  5.  4.  9. 12. 11.  3. 10.  8. 14. 14.\n",
      " 13. 14.  0.  9. 15. 19.  6. 11. 19.  0.  9. 12. 12.  9.  0. 10.  7.  0.\n",
      " 15.  4.  0. 13.  0. 11.  5. 17.  2.  9. 14. 12.  3. 11. 11.  5.  0.  9.\n",
      "  8. 14.  9.  5.  2. 14. 17.  9.  0.  5. 17.  8.  2. 12. 15.  7.  4.  0.\n",
      "  3.  6. 11.  5.  3.  8. 13.  2. 10. 16.  2.  9.  8.  8.  2. 12.  8.  4.\n",
      "  0. 18.  9.  3. 12. 19.  1. 15.  9. 19. 16.  1. 15. 12.  2. 17.  9.  3.\n",
      "  3.  8.  6.  3.  8. 13. 12.  4.  8. 16.  4. 14.  9.  5.  5.  2.  9. 16.\n",
      "  8. 17. 19.  2. 12. 16.  6.  3.  8.  5.  2.  8.  5.  2. 11.  2.  5. 15.\n",
      " 20. 20. 20. 20. 20. 20. 20. 20. 20. 20. 20. 20. 20. 20. 20. 20. 20. 20.\n",
      " 20. 20. 20. 20. 20. 20. 20. 20. 20. 20. 20. 20. 20. 20. 20. 20. 20. 20.\n",
      " 20. 20. 20. 20. 20. 20. 20. 20. 20. 20. 20. 20. 20. 20. 20. 20. 20. 20.\n",
      " 20. 20. 20. 20. 20. 20. 20. 20. 20. 20. 20. 20. 20. 20. 20. 20. 20. 20.\n",
      " 20. 20. 20. 20. 20. 20. 20. 20. 20. 20. 20. 20. 20. 20. 20. 20. 20. 20.\n",
      " 20. 20. 20. 20. 20. 20. 20. 20. 20. 20. 20. 20. 20. 20. 20. 20. 20. 20.\n",
      " 20. 20. 20. 20. 20. 20. 20. 20. 20. 20. 20. 20. 20. 20. 20. 20. 20. 20.\n",
      " 20. 20. 20. 20. 20. 20. 20. 20.]\n",
      "Shape of data: (512,)\n",
      "Temp:  42.0\n",
      "id:  Q5JDG9\n",
      "seq:  MKLDVIGIGNLNYDIIFTLERFPEFHEKINARGAHFGLGGAAANTISWLAHFGLKTGYIGAVGNDDVGEMHIKYFQGIGVDTGGIDVVEEPSGVAVAMVAGDDKRIVKYPGANLRRRFKPEYASRAKFLHLSSNPPELIEEAVNFASQRGIKVSLDIGEAPLPRELESKVDYLMMNEDEYRRKYGSLDPSLCRAKNLVVTLNGGGALVREGDNVFEVRGLSAKVVDSTGAGDSFDAGVIYGVLNGWSLLDSAKLGMLLAYLTVQKVGARSAIVPLEEVKRIAREVGLDLPFNRT\n",
      "seq int: [10.  8.  9.  2. 17.  7.  5.  7.  5. 11.  9. 11. 19.  2.  7.  7.  4. 16.\n",
      "  9.  3. 14.  4. 12.  3.  4.  6.  3.  8.  7. 11.  0. 14.  5.  0.  6.  4.\n",
      "  5.  9.  5.  5.  0.  0.  0. 11. 16.  7. 15. 18.  9.  0.  6.  4.  5.  9.\n",
      "  8. 16.  5. 19.  7.  5.  0. 17.  5. 11.  2.  2. 17.  5.  3. 10.  6.  7.\n",
      "  8. 19.  4. 13.  5.  7.  5. 17.  2. 16.  5.  5.  7.  2. 17. 17.  3.  3.\n",
      " 12. 15.  5. 17.  0. 17.  0. 10. 17.  0.  5.  2.  2.  8. 14.  7. 17.  8.\n",
      " 19. 12.  5.  0. 11.  9. 14. 14. 14.  4.  8. 12.  3. 19.  0. 15. 14.  0.\n",
      "  8.  4.  9.  6.  9. 15. 15. 11. 12. 12.  3.  9.  7.  3.  3.  0. 17. 11.\n",
      "  4.  0. 15. 13. 14.  5.  7.  8. 17. 15.  9.  2.  7.  5.  3.  0. 12.  9.\n",
      " 12. 14.  3.  9.  3. 15.  8. 17.  2. 19.  9. 10. 10. 11.  3.  2.  3. 19.\n",
      " 14. 14.  8. 19.  5. 15.  9.  2. 12. 15.  9.  1. 14.  0.  8. 11.  9. 17.\n",
      " 17. 16.  9. 11.  5.  5.  5.  0.  9. 17. 14.  3.  5.  2. 11. 17.  4.  3.\n",
      " 17. 14.  5.  9. 15.  0.  8. 17. 17.  2. 15. 16.  5.  0.  5.  2. 15.  4.\n",
      "  2.  0.  5. 17.  7. 19.  5. 17.  9. 11.  5. 18. 15.  9.  9.  2. 15.  0.\n",
      "  8.  9.  5. 10.  9.  9.  0. 19.  9. 16. 17. 13.  8. 17.  5.  0. 14. 15.\n",
      "  0.  7. 17. 12.  9.  3.  3. 17.  8. 14.  7.  0. 14.  3. 17.  5.  9.  2.\n",
      "  9. 12.  4. 11. 14. 16. 20. 20. 20. 20. 20. 20. 20. 20. 20. 20. 20. 20.\n",
      " 20. 20. 20. 20. 20. 20. 20. 20. 20. 20. 20. 20. 20. 20. 20. 20. 20. 20.\n",
      " 20. 20. 20. 20. 20. 20. 20. 20. 20. 20. 20. 20. 20. 20. 20. 20. 20. 20.\n",
      " 20. 20. 20. 20. 20. 20. 20. 20. 20. 20. 20. 20. 20. 20. 20. 20. 20. 20.\n",
      " 20. 20. 20. 20. 20. 20. 20. 20. 20. 20. 20. 20. 20. 20. 20. 20. 20. 20.\n",
      " 20. 20. 20. 20. 20. 20. 20. 20. 20. 20. 20. 20. 20. 20. 20. 20. 20. 20.\n",
      " 20. 20. 20. 20. 20. 20. 20. 20. 20. 20. 20. 20. 20. 20. 20. 20. 20. 20.\n",
      " 20. 20. 20. 20. 20. 20. 20. 20. 20. 20. 20. 20. 20. 20. 20. 20. 20. 20.\n",
      " 20. 20. 20. 20. 20. 20. 20. 20. 20. 20. 20. 20. 20. 20. 20. 20. 20. 20.\n",
      " 20. 20. 20. 20. 20. 20. 20. 20. 20. 20. 20. 20. 20. 20. 20. 20. 20. 20.\n",
      " 20. 20. 20. 20. 20. 20. 20. 20. 20. 20. 20. 20. 20. 20. 20. 20. 20. 20.\n",
      " 20. 20. 20. 20. 20. 20. 20. 20. 20. 20. 20. 20. 20. 20. 20. 20. 20. 20.\n",
      " 20. 20. 20. 20. 20. 20. 20. 20.]\n",
      "Shape of data: (512,)\n",
      "Temp:  85.0\n"
     ]
    }
   ],
   "source": [
    "#Printing data 0:2\n",
    "for i in range(2):\n",
    "    print(\"id: \",data['id'][i])\n",
    "    print(\"seq: \", data['seq'][i])\n",
    "    print(\"seq int:\", data['seq_int'][i])\n",
    "    print(\"Shape of data:\", data['seq_int'][i].shape)\n",
    "    print(\"Temp: \", data['prop'][i])\n",
    "    "
   ]
  },
  {
   "cell_type": "code",
   "execution_count": 81,
   "metadata": {},
   "outputs": [],
   "source": [
    "# Spliting data \n",
    "\n",
    "X_train, X_test, y_train, y_test = train_test_split( np.array(data['seq_int']), np.array(data['prop']), test_size=0.2, random_state=42)"
   ]
  },
  {
   "cell_type": "code",
   "execution_count": 66,
   "metadata": {},
   "outputs": [
    {
     "name": "stdout",
     "output_type": "stream",
     "text": [
      "Number of examples in the test set         1048\n",
      "Number of examples in the validation set    262\n",
      "Number of examples in the test set         1048\n",
      "Number of examples in the validation set    262\n"
     ]
    }
   ],
   "source": [
    "# Printing the size of the data\n",
    "\n",
    "print('Number of examples in the test set %12s' % len(X_train))\n",
    "print('Number of examples in the validation set %6s' % len(X_test))\n",
    "\n",
    "print('Number of examples in the test set %12s' % len(y_train))\n",
    "print('Number of examples in the validation set %6s' % len(y_test))"
   ]
  },
  {
   "cell_type": "markdown",
   "metadata": {},
   "source": [
    "# Model Developement \n",
    "We will investigate the diferent components (Layers) separatly then we will string them together in to a model that predicts the optimal temperature."
   ]
  },
  {
   "cell_type": "markdown",
   "metadata": {},
   "source": [
    "### Embedding layer\n",
    "Embedding is just a way to reprecent our integer residues as vectors "
   ]
  },
  {
   "cell_type": "code",
   "execution_count": 16,
   "metadata": {
    "scrolled": true
   },
   "outputs": [
    {
     "name": "stdout",
     "output_type": "stream",
     "text": [
      "(1, 512)\n",
      "(1, 512, 10)\n",
      "[[[ 0.00023736 -0.03861759  0.04725392 ...  0.00440492  0.03163436\n",
      "   -0.00851383]\n",
      "  [-0.03545252  0.02851243  0.04858854 ...  0.01048476  0.01747711\n",
      "    0.03319747]\n",
      "  [-0.03196963  0.04438924  0.01361874 ... -0.01556272 -0.02589515\n",
      "    0.04253567]\n",
      "  ...\n",
      "  [-0.03324833 -0.0196014   0.02365692 ...  0.02031409 -0.00173908\n",
      "    0.03389896]\n",
      "  [-0.03324833 -0.0196014   0.02365692 ...  0.02031409 -0.00173908\n",
      "    0.03389896]\n",
      "  [-0.03324833 -0.0196014   0.02365692 ...  0.02031409 -0.00173908\n",
      "    0.03389896]]]\n"
     ]
    }
   ],
   "source": [
    "# Embedding layers\n",
    "from tensorflow.keras.layers import Embedding\n",
    "\n",
    "VOCABELARY_SIZE = 21\n",
    "EMBEDDING_SIZE = 10\n",
    "\n",
    "embedding_layer = Embedding(VOCABELARY_SIZE, EMBEDDING_SIZE)\n",
    "emb_X1 = embedding_layer(X_train[0].reshape([-1,MAX_SEQ_LEN,]))\n",
    "print(X_train[0].reshape([1,MAX_SEQ_LEN,]).shape)\n",
    "print(emb_X1.shape)\n",
    "print(emb_X1.numpy()[:10,:])"
   ]
  },
  {
   "cell_type": "markdown",
   "metadata": {},
   "source": [
    "## CNN Layers"
   ]
  },
  {
   "cell_type": "code",
   "execution_count": 46,
   "metadata": {},
   "outputs": [
    {
     "name": "stdout",
     "output_type": "stream",
     "text": [
      "(1, 503, 32)\n",
      "(1, 512, 32)\n",
      "(1, 256, 32)\n"
     ]
    }
   ],
   "source": [
    "from tensorflow.keras.layers import Conv1D\n",
    "\n",
    "KERNEL_SIZE = 10\n",
    "FILTERS = 32\n",
    "\n",
    "# Convolutions with no padding stepsize 1\n",
    "conv_no_padding = Conv1D(FILTERS, KERNEL_SIZE, strides = 1, padding = 'valid')\n",
    "# Convolutions with same padding stepsize 1\n",
    "conv_same_padding = Conv1D(FILTERS, KERNEL_SIZE, strides = 1, padding = 'same')\n",
    "# Convolutions with same padding stepsize 2\n",
    "conv_step_2 = Conv1D(FILTERS, KERNEL_SIZE, strides = 2, padding = 'same')\n",
    "\n",
    "conv_X1_s1 = conv_no_padding(emb_X1)\n",
    "conv_X1_same = conv_same_padding(emb_X1)\n",
    "conv_X1_s2 = conv_step_2(emb_X1)\n",
    "\n",
    "\n",
    "print(conv_no_padding(emb_X1).numpy().shape)\n",
    "print(conv_same_padding(emb_X1).numpy().shape)\n",
    "print(conv_step_2(emb_X1).numpy().shape)"
   ]
  },
  {
   "cell_type": "markdown",
   "metadata": {},
   "source": [
    "## Batch Normalisation "
   ]
  },
  {
   "cell_type": "code",
   "execution_count": 41,
   "metadata": {},
   "outputs": [
    {
     "name": "stdout",
     "output_type": "stream",
     "text": [
      "[[[ 1.  2.  3.]\n",
      "  [ 4.  5.  6.]\n",
      "  [ 7.  8.  9.]]\n",
      "\n",
      " [[ 2.  3.  4.]\n",
      "  [ 5.  6.  7.]\n",
      "  [ 8.  9. 10.]]]\n",
      "[[[-1.3998879  -1.399888   -1.399888  ]\n",
      "  [-0.19998395 -0.19998407 -0.19998407]\n",
      "  [ 0.9999201   0.9999199   0.9999199 ]]\n",
      "\n",
      " [[-0.99991995 -0.9999201  -0.99992   ]\n",
      "  [ 0.19998407  0.19998384  0.19998407]\n",
      "  [ 1.399888    1.3998878   1.399888  ]]]\n"
     ]
    }
   ],
   "source": [
    "from tensorflow.keras.layers import BatchNormalization\n",
    "\n",
    "bn = BatchNormalization()\n",
    "\n",
    "const1 = tf.constant([[[1.0, 2.0, 3.0], [4.0, 5.0, 6.0], [7.0, 8.0, 9.0]],\n",
    "                     [[2.0, 3.0, 4.0], [5.0, 6.0, 7.0], [8.0, 9.0, 10.0]]], dtype=tf.float32)\n",
    "const1 = tf.reshape(const1, shape=(-1,3,3))\n",
    "\n",
    "\n",
    "const_normalized = bn(const1, training=True)\n",
    "\n",
    "print(const1.numpy())\n",
    "print(const_normalized.numpy())"
   ]
  },
  {
   "cell_type": "markdown",
   "metadata": {},
   "source": [
    "## Layer Normalization"
   ]
  },
  {
   "cell_type": "code",
   "execution_count": 40,
   "metadata": {},
   "outputs": [
    {
     "name": "stdout",
     "output_type": "stream",
     "text": [
      "[[[ 1.  2.  3.]\n",
      "  [ 4.  5.  6.]\n",
      "  [ 7.  8.  9.]]\n",
      "\n",
      " [[ 2.  3.  4.]\n",
      "  [ 5.  6.  7.]\n",
      "  [ 8.  9. 10.]]]\n",
      "tf.Tensor(\n",
      "[[[-1.2238274  0.         1.2238274]\n",
      "  [-1.2238274  0.         1.2238274]\n",
      "  [-1.2238274  0.         1.2238274]]\n",
      "\n",
      " [[-1.2238274  0.         1.2238274]\n",
      "  [-1.2238274  0.         1.2238274]\n",
      "  [-1.2238274  0.         1.2238274]]], shape=(2, 3, 3), dtype=float32)\n"
     ]
    }
   ],
   "source": [
    "from tensorflow.keras.layers import LayerNormalization\n",
    "\n",
    "ln = LayerNormalization()\n",
    "const2 = tf.constant([[[1.0, 2.0, 3.0], [4.0, 5.0, 6.0], [7.0, 8.0, 9.0]],\n",
    "                     [[2.0, 3.0, 4.0], [5.0, 6.0, 7.0], [8.0, 9.0, 10.0]]], dtype=tf.float32)\n",
    "const2_normalized = ln(const2)\n",
    "\n",
    "print(const2.numpy())\n",
    "print(const2_normalized)"
   ]
  },
  {
   "cell_type": "markdown",
   "metadata": {},
   "source": [
    "## Dropout\n"
   ]
  },
  {
   "cell_type": "code",
   "execution_count": 49,
   "metadata": {},
   "outputs": [
    {
     "name": "stdout",
     "output_type": "stream",
     "text": [
      "[[[ 0.  0.  6.]\n",
      "  [ 8. 10. 12.]\n",
      "  [14.  0. 18.]]\n",
      "\n",
      " [[ 0.  0.  0.]\n",
      "  [ 0.  0. 14.]\n",
      "  [ 0. 18. 20.]]]\n"
     ]
    }
   ],
   "source": [
    "from tensorflow.keras.layers import Dropout\n",
    "\n",
    "dp = Dropout(0.5)\n",
    "const2 = tf.constant([[[1.0, 2.0, 3.0], [4.0, 5.0, 6.0], [7.0, 8.0, 9.0]],\n",
    "                     [[2.0, 3.0, 4.0], [5.0, 6.0, 7.0], [8.0, 9.0, 10.0]]], dtype=tf.float32)\n",
    "out_dp = dp(const2, training=True)\n",
    "\n",
    "print(out_dp.numpy())"
   ]
  },
  {
   "cell_type": "markdown",
   "metadata": {},
   "source": [
    "## Flatten "
   ]
  },
  {
   "cell_type": "code",
   "execution_count": 45,
   "metadata": {},
   "outputs": [
    {
     "name": "stdout",
     "output_type": "stream",
     "text": [
      "(1, 8192)\n"
     ]
    }
   ],
   "source": [
    "from tensorflow.keras.layers import Flatten\n",
    "\n",
    "flat = Flatten()\n",
    "\n",
    "flatt_X1 = flat(conv_s2(emb_X1))\n",
    "print(flatt_X1.numpy().shape)"
   ]
  },
  {
   "cell_type": "markdown",
   "metadata": {},
   "source": [
    "## Dense"
   ]
  },
  {
   "cell_type": "code",
   "execution_count": 47,
   "metadata": {},
   "outputs": [
    {
     "name": "stdout",
     "output_type": "stream",
     "text": [
      "(1, 10)\n",
      "(1, 1)\n"
     ]
    }
   ],
   "source": [
    "from tensorflow.keras.layers import Dense\n",
    "\n",
    "dense10 = Dense(10, activation='relu')\n",
    "dense1  = Dense(1, activation='sigmoid')\n",
    "\n",
    "dense10_X1 = dense10(flatt_X1)\n",
    "dense1_X1 =dense1(dense10_X1)\n",
    "\n",
    "print(dense10_X1.numpy().shape)\n",
    "print(dense1_X1.numpy().shape)\n"
   ]
  },
  {
   "cell_type": "markdown",
   "metadata": {},
   "source": [
    "## Sequential model"
   ]
  },
  {
   "cell_type": "code",
   "execution_count": 102,
   "metadata": {},
   "outputs": [
    {
     "name": "stdout",
     "output_type": "stream",
     "text": [
      "Model: \"sequential_10\"\n",
      "_________________________________________________________________\n",
      "Layer (type)                 Output Shape              Param #   \n",
      "=================================================================\n",
      "embedding_12 (Embedding)     (None, 512, 10)           210       \n",
      "_________________________________________________________________\n",
      "conv1d_24 (Conv1D)           (None, 256, 32)           1312      \n",
      "_________________________________________________________________\n",
      "layer_normalization_14 (Laye (None, 256, 32)           64        \n",
      "_________________________________________________________________\n",
      "dropout_9 (Dropout)          (None, 256, 32)           0         \n",
      "_________________________________________________________________\n",
      "conv1d_25 (Conv1D)           (None, 128, 64)           8256      \n",
      "_________________________________________________________________\n",
      "layer_normalization_15 (Laye (None, 128, 64)           128       \n",
      "_________________________________________________________________\n",
      "dropout_10 (Dropout)         (None, 128, 64)           0         \n",
      "_________________________________________________________________\n",
      "conv1d_26 (Conv1D)           (None, 64, 64)            16448     \n",
      "_________________________________________________________________\n",
      "layer_normalization_16 (Laye (None, 64, 64)            128       \n",
      "_________________________________________________________________\n",
      "flatten_5 (Flatten)          (None, 4096)              0         \n",
      "_________________________________________________________________\n",
      "dense_5 (Dense)              (None, 1)                 4097      \n",
      "=================================================================\n",
      "Total params: 30,643\n",
      "Trainable params: 30,643\n",
      "Non-trainable params: 0\n",
      "_________________________________________________________________\n"
     ]
    }
   ],
   "source": [
    "from tensorflow.keras import Sequential\n",
    "\n",
    "model = Sequential()\n",
    "\n",
    "model.add(Embedding(VOCABELARY_SIZE, EMBEDDING_SIZE, input_shape=(MAX_SEQ_LEN,)))\n",
    "model.add(Conv1D(32,4,padding='same',strides=2, activation='relu'))\n",
    "model.add(LayerNormalization())\n",
    "model.add(Dropout(0.2))\n",
    "model.add(Conv1D(64,4,padding='same',strides=2, activation='relu'))\n",
    "model.add(LayerNormalization())\n",
    "model.add(Dropout(0.2))\n",
    "model.add(Conv1D(64,4,padding='same',strides=2, activation='relu'))\n",
    "model.add(LayerNormalization())\n",
    "model.add(Flatten())\n",
    "model.add(Dense(1, activation='linear'))\n",
    "\n",
    "model.summary()"
   ]
  },
  {
   "cell_type": "markdown",
   "metadata": {},
   "source": [
    "## Callbacks"
   ]
  },
  {
   "cell_type": "code",
   "execution_count": 63,
   "metadata": {},
   "outputs": [],
   "source": [
    "import tensorflow.keras.backend as K\n",
    "\n",
    "def coef_det_k(y_true, y_pred):\n",
    "    \"\"\"Computer coefficient of determination R^2\n",
    "    \"\"\"\n",
    "    SS_res = K.sum(K.square(y_true - y_pred))\n",
    "    SS_tot = K.sum(K.square(y_true - K.mean(y_true)))\n",
    "    return 1 - SS_res / (SS_tot + K.epsilon())"
   ]
  },
  {
   "cell_type": "markdown",
   "metadata": {},
   "source": [
    "## Training model"
   ]
  },
  {
   "cell_type": "code",
   "execution_count": 103,
   "metadata": {},
   "outputs": [
    {
     "name": "stdout",
     "output_type": "stream",
     "text": [
      "Train on 1048 samples, validate on 262 samples\n",
      "Epoch 1/100\n",
      "1048/1048 [==============================] - 1s 1ms/sample - loss: 997.7913 - coef_det_k: -1.8972 - val_loss: 391.9526 - val_coef_det_k: -0.1145\n",
      "Epoch 2/100\n",
      "1048/1048 [==============================] - 0s 137us/sample - loss: 372.5923 - coef_det_k: -0.0650 - val_loss: 395.1577 - val_coef_det_k: -0.1507\n",
      "Epoch 3/100\n",
      "1048/1048 [==============================] - 0s 136us/sample - loss: 364.5835 - coef_det_k: -0.0576 - val_loss: 390.4364 - val_coef_det_k: -0.1148\n",
      "Epoch 4/100\n",
      "1048/1048 [==============================] - 0s 136us/sample - loss: 357.5040 - coef_det_k: -0.0289 - val_loss: 390.8693 - val_coef_det_k: -0.1289\n",
      "Epoch 5/100\n",
      "1048/1048 [==============================] - 0s 134us/sample - loss: 358.2779 - coef_det_k: -0.0302 - val_loss: 394.4902 - val_coef_det_k: -0.1159\n",
      "Epoch 6/100\n",
      "1048/1048 [==============================] - 0s 134us/sample - loss: 364.5722 - coef_det_k: -0.0568 - val_loss: 387.4503 - val_coef_det_k: -0.1067\n",
      "Epoch 7/100\n",
      "1048/1048 [==============================] - 0s 136us/sample - loss: 357.6709 - coef_det_k: -0.0320 - val_loss: 412.5942 - val_coef_det_k: -0.1463\n",
      "Epoch 8/100\n",
      "1048/1048 [==============================] - 0s 135us/sample - loss: 347.1336 - coef_det_k: 3.4575e-04 - val_loss: 374.6189 - val_coef_det_k: -0.0690\n",
      "Epoch 9/100\n",
      "1048/1048 [==============================] - 0s 135us/sample - loss: 352.8127 - coef_det_k: -0.0352 - val_loss: 379.5988 - val_coef_det_k: -0.0523\n",
      "Epoch 10/100\n",
      "1048/1048 [==============================] - 0s 135us/sample - loss: 325.9362 - coef_det_k: 0.0564 - val_loss: 341.3653 - val_coef_det_k: 0.0371\n",
      "Epoch 11/100\n",
      "1048/1048 [==============================] - 0s 134us/sample - loss: 319.7975 - coef_det_k: 0.0098 - val_loss: 370.3979 - val_coef_det_k: -0.0030\n",
      "Epoch 12/100\n",
      "1048/1048 [==============================] - 0s 136us/sample - loss: 293.7517 - coef_det_k: 0.1236 - val_loss: 352.5494 - val_coef_det_k: 0.0466\n",
      "Epoch 13/100\n",
      "1048/1048 [==============================] - 0s 135us/sample - loss: 267.9362 - coef_det_k: 0.2097 - val_loss: 305.4903 - val_coef_det_k: 0.1486\n",
      "Epoch 14/100\n",
      "1048/1048 [==============================] - 0s 136us/sample - loss: 237.6593 - coef_det_k: 0.3047 - val_loss: 315.2773 - val_coef_det_k: 0.1334\n",
      "Epoch 15/100\n",
      "1048/1048 [==============================] - 0s 135us/sample - loss: 222.9016 - coef_det_k: 0.3432 - val_loss: 329.4885 - val_coef_det_k: 0.0924\n",
      "Epoch 16/100\n",
      "1048/1048 [==============================] - 0s 135us/sample - loss: 211.1233 - coef_det_k: 0.3749 - val_loss: 288.9722 - val_coef_det_k: 0.1625\n",
      "Epoch 17/100\n",
      "1048/1048 [==============================] - 0s 134us/sample - loss: 197.4777 - coef_det_k: 0.3931 - val_loss: 284.3856 - val_coef_det_k: 0.1719\n",
      "Epoch 18/100\n",
      "1048/1048 [==============================] - 0s 135us/sample - loss: 195.7979 - coef_det_k: 0.4001 - val_loss: 296.3002 - val_coef_det_k: 0.1195\n",
      "Epoch 19/100\n",
      "1048/1048 [==============================] - 0s 134us/sample - loss: 156.5793 - coef_det_k: 0.5326 - val_loss: 295.1216 - val_coef_det_k: 0.1401\n",
      "Epoch 20/100\n",
      "1048/1048 [==============================] - 0s 134us/sample - loss: 145.8024 - coef_det_k: 0.5574 - val_loss: 287.5630 - val_coef_det_k: 0.1500\n",
      "Epoch 21/100\n",
      "1048/1048 [==============================] - 0s 135us/sample - loss: 128.9556 - coef_det_k: 0.5881 - val_loss: 308.2726 - val_coef_det_k: 0.1031\n",
      "Epoch 22/100\n",
      "1048/1048 [==============================] - 0s 134us/sample - loss: 113.3061 - coef_det_k: 0.6556 - val_loss: 295.0568 - val_coef_det_k: 0.1072\n",
      "Epoch 23/100\n",
      "1048/1048 [==============================] - 0s 135us/sample - loss: 104.3480 - coef_det_k: 0.6817 - val_loss: 288.4177 - val_coef_det_k: 0.1316\n",
      "Epoch 24/100\n",
      "1048/1048 [==============================] - 0s 134us/sample - loss: 87.5052 - coef_det_k: 0.7232 - val_loss: 308.0929 - val_coef_det_k: 0.1017\n",
      "Epoch 25/100\n",
      "1048/1048 [==============================] - 0s 135us/sample - loss: 80.7150 - coef_det_k: 0.7561 - val_loss: 296.0096 - val_coef_det_k: 0.1076\n",
      "Epoch 26/100\n",
      "1048/1048 [==============================] - 0s 135us/sample - loss: 73.2308 - coef_det_k: 0.7817 - val_loss: 294.8607 - val_coef_det_k: 0.1192\n",
      "Epoch 27/100\n",
      "1048/1048 [==============================] - 0s 135us/sample - loss: 66.8791 - coef_det_k: 0.8039 - val_loss: 298.0054 - val_coef_det_k: 0.1082\n",
      "Epoch 28/100\n",
      "1048/1048 [==============================] - 0s 134us/sample - loss: 60.2331 - coef_det_k: 0.8214 - val_loss: 295.0510 - val_coef_det_k: 0.1157\n",
      "Epoch 29/100\n",
      "1048/1048 [==============================] - 0s 135us/sample - loss: 55.6297 - coef_det_k: 0.8280 - val_loss: 305.0105 - val_coef_det_k: 0.0877\n",
      "Epoch 30/100\n",
      "1048/1048 [==============================] - 0s 135us/sample - loss: 52.3281 - coef_det_k: 0.8364 - val_loss: 304.8323 - val_coef_det_k: 0.0798\n",
      "Epoch 31/100\n",
      "1048/1048 [==============================] - 0s 134us/sample - loss: 46.4369 - coef_det_k: 0.8601 - val_loss: 316.7119 - val_coef_det_k: 0.0441\n",
      "Epoch 32/100\n",
      "1048/1048 [==============================] - 0s 135us/sample - loss: 46.6217 - coef_det_k: 0.8615 - val_loss: 313.2468 - val_coef_det_k: 0.0623\n",
      "Epoch 33/100\n",
      "1048/1048 [==============================] - 0s 134us/sample - loss: 42.8984 - coef_det_k: 0.8638 - val_loss: 316.9425 - val_coef_det_k: 0.0712\n",
      "Epoch 34/100\n",
      "1048/1048 [==============================] - 0s 134us/sample - loss: 42.2968 - coef_det_k: 0.8674 - val_loss: 326.3842 - val_coef_det_k: 0.0376\n",
      "Epoch 35/100\n",
      "1048/1048 [==============================] - 0s 136us/sample - loss: 40.9445 - coef_det_k: 0.8793 - val_loss: 312.3250 - val_coef_det_k: 0.0556\n",
      "Epoch 36/100\n",
      "1048/1048 [==============================] - 0s 135us/sample - loss: 40.3078 - coef_det_k: 0.8757 - val_loss: 313.2673 - val_coef_det_k: 0.0666\n",
      "Epoch 37/100\n",
      "1048/1048 [==============================] - 0s 135us/sample - loss: 39.1316 - coef_det_k: 0.8737 - val_loss: 341.4531 - val_coef_det_k: 0.0026\n",
      "Epoch 38/100\n",
      "1048/1048 [==============================] - 0s 134us/sample - loss: 41.7549 - coef_det_k: 0.8726 - val_loss: 320.3654 - val_coef_det_k: 0.0580\n",
      "Epoch 39/100\n",
      "1048/1048 [==============================] - 0s 134us/sample - loss: 35.0671 - coef_det_k: 0.8948 - val_loss: 317.8105 - val_coef_det_k: 0.0673\n",
      "Epoch 40/100\n",
      "1048/1048 [==============================] - 0s 135us/sample - loss: 32.1850 - coef_det_k: 0.9016 - val_loss: 314.6475 - val_coef_det_k: 0.0735\n",
      "Epoch 41/100\n",
      "1048/1048 [==============================] - 0s 136us/sample - loss: 30.5484 - coef_det_k: 0.9052 - val_loss: 305.5751 - val_coef_det_k: 0.0891\n",
      "Epoch 42/100\n",
      "1048/1048 [==============================] - 0s 135us/sample - loss: 31.1746 - coef_det_k: 0.9030 - val_loss: 306.5361 - val_coef_det_k: 0.0814\n",
      "Epoch 43/100\n",
      "1048/1048 [==============================] - 0s 137us/sample - loss: 34.4470 - coef_det_k: 0.8970 - val_loss: 319.1589 - val_coef_det_k: 0.0578\n",
      "Epoch 44/100\n",
      "1048/1048 [==============================] - 0s 134us/sample - loss: 30.8764 - coef_det_k: 0.9020 - val_loss: 305.7777 - val_coef_det_k: 0.0767\n",
      "Epoch 45/100\n",
      "1048/1048 [==============================] - 0s 135us/sample - loss: 29.9308 - coef_det_k: 0.9090 - val_loss: 306.5734 - val_coef_det_k: 0.0868\n",
      "Epoch 46/100\n",
      "1048/1048 [==============================] - 0s 135us/sample - loss: 31.4082 - coef_det_k: 0.9066 - val_loss: 305.1596 - val_coef_det_k: 0.0867\n",
      "Epoch 47/100\n",
      "1048/1048 [==============================] - 0s 134us/sample - loss: 28.6988 - coef_det_k: 0.9124 - val_loss: 313.9515 - val_coef_det_k: 0.0685\n",
      "Epoch 48/100\n",
      "1048/1048 [==============================] - 0s 134us/sample - loss: 29.7803 - coef_det_k: 0.9112 - val_loss: 306.3752 - val_coef_det_k: 0.0804\n",
      "Epoch 49/100\n",
      "1048/1048 [==============================] - 0s 134us/sample - loss: 32.5019 - coef_det_k: 0.8994 - val_loss: 308.8831 - val_coef_det_k: 0.0774\n",
      "Epoch 50/100\n",
      "1048/1048 [==============================] - 0s 135us/sample - loss: 30.3852 - coef_det_k: 0.9075 - val_loss: 315.2544 - val_coef_det_k: 0.0403\n",
      "Epoch 51/100\n",
      "1048/1048 [==============================] - 0s 135us/sample - loss: 28.4846 - coef_det_k: 0.9127 - val_loss: 310.1400 - val_coef_det_k: 0.0776\n",
      "Epoch 52/100\n",
      "1048/1048 [==============================] - 0s 134us/sample - loss: 27.2757 - coef_det_k: 0.9158 - val_loss: 319.0388 - val_coef_det_k: 0.0640\n"
     ]
    },
    {
     "name": "stdout",
     "output_type": "stream",
     "text": [
      "Epoch 53/100\n",
      "1048/1048 [==============================] - 0s 135us/sample - loss: 28.9232 - coef_det_k: 0.9101 - val_loss: 303.9345 - val_coef_det_k: 0.0818\n",
      "Epoch 54/100\n",
      "1048/1048 [==============================] - 0s 135us/sample - loss: 28.4336 - coef_det_k: 0.9113 - val_loss: 304.7028 - val_coef_det_k: 0.0800\n",
      "Epoch 55/100\n",
      "1048/1048 [==============================] - 0s 136us/sample - loss: 26.1304 - coef_det_k: 0.9190 - val_loss: 306.6574 - val_coef_det_k: 0.0726\n",
      "Epoch 56/100\n",
      "1048/1048 [==============================] - 0s 135us/sample - loss: 28.5644 - coef_det_k: 0.9118 - val_loss: 307.7262 - val_coef_det_k: 0.0780\n",
      "Epoch 57/100\n",
      "1048/1048 [==============================] - 0s 134us/sample - loss: 29.0173 - coef_det_k: 0.9104 - val_loss: 308.5167 - val_coef_det_k: 0.0817\n",
      "Epoch 58/100\n",
      "1048/1048 [==============================] - 0s 136us/sample - loss: 25.5682 - coef_det_k: 0.9224 - val_loss: 303.9108 - val_coef_det_k: 0.0974\n",
      "Epoch 59/100\n",
      "1048/1048 [==============================] - 0s 135us/sample - loss: 26.1512 - coef_det_k: 0.9213 - val_loss: 306.7209 - val_coef_det_k: 0.0825\n",
      "Epoch 60/100\n",
      "1048/1048 [==============================] - 0s 135us/sample - loss: 26.1706 - coef_det_k: 0.9191 - val_loss: 317.3990 - val_coef_det_k: 0.0640\n",
      "Epoch 61/100\n",
      "1048/1048 [==============================] - 0s 135us/sample - loss: 26.1824 - coef_det_k: 0.9182 - val_loss: 313.3186 - val_coef_det_k: 0.0662\n",
      "Epoch 62/100\n",
      "1048/1048 [==============================] - 0s 134us/sample - loss: 25.1812 - coef_det_k: 0.9249 - val_loss: 311.0309 - val_coef_det_k: 0.0617\n",
      "Epoch 63/100\n",
      "1048/1048 [==============================] - 0s 135us/sample - loss: 25.0041 - coef_det_k: 0.9219 - val_loss: 315.5683 - val_coef_det_k: 0.0754\n",
      "Epoch 64/100\n",
      "1048/1048 [==============================] - 0s 135us/sample - loss: 24.3138 - coef_det_k: 0.9269 - val_loss: 311.8746 - val_coef_det_k: 0.0791\n",
      "Epoch 65/100\n",
      "1048/1048 [==============================] - 0s 135us/sample - loss: 24.2425 - coef_det_k: 0.9245 - val_loss: 312.3359 - val_coef_det_k: 0.0888\n",
      "Epoch 66/100\n",
      "1048/1048 [==============================] - 0s 135us/sample - loss: 25.7783 - coef_det_k: 0.9190 - val_loss: 313.6236 - val_coef_det_k: 0.0834\n",
      "Epoch 67/100\n",
      "1048/1048 [==============================] - 0s 134us/sample - loss: 25.3698 - coef_det_k: 0.9230 - val_loss: 309.2401 - val_coef_det_k: 0.0818\n",
      "Epoch 68/100\n",
      "1048/1048 [==============================] - 0s 135us/sample - loss: 26.2502 - coef_det_k: 0.9176 - val_loss: 308.6272 - val_coef_det_k: 0.0781\n",
      "Epoch 69/100\n",
      "1048/1048 [==============================] - 0s 135us/sample - loss: 21.8278 - coef_det_k: 0.9334 - val_loss: 313.1471 - val_coef_det_k: 0.0763\n",
      "Epoch 70/100\n",
      "1048/1048 [==============================] - 0s 134us/sample - loss: 23.5986 - coef_det_k: 0.9294 - val_loss: 312.5401 - val_coef_det_k: 0.0692\n",
      "Epoch 71/100\n",
      "1048/1048 [==============================] - 0s 134us/sample - loss: 23.1993 - coef_det_k: 0.9287 - val_loss: 313.3334 - val_coef_det_k: 0.0691\n",
      "Epoch 72/100\n",
      "1048/1048 [==============================] - 0s 136us/sample - loss: 22.4832 - coef_det_k: 0.9315 - val_loss: 309.2097 - val_coef_det_k: 0.0704\n",
      "Epoch 73/100\n",
      "1048/1048 [==============================] - 0s 135us/sample - loss: 24.0234 - coef_det_k: 0.9258 - val_loss: 314.8713 - val_coef_det_k: 0.0389\n",
      "Epoch 74/100\n",
      "1048/1048 [==============================] - 0s 135us/sample - loss: 22.7472 - coef_det_k: 0.9307 - val_loss: 307.2232 - val_coef_det_k: 0.0730\n",
      "Epoch 75/100\n",
      "1048/1048 [==============================] - 0s 135us/sample - loss: 22.1758 - coef_det_k: 0.9337 - val_loss: 310.0378 - val_coef_det_k: 0.0812\n",
      "Epoch 76/100\n",
      "1048/1048 [==============================] - 0s 134us/sample - loss: 23.0190 - coef_det_k: 0.9306 - val_loss: 305.5842 - val_coef_det_k: 0.0857\n",
      "Epoch 77/100\n",
      "1048/1048 [==============================] - 0s 135us/sample - loss: 22.9521 - coef_det_k: 0.9289 - val_loss: 306.4400 - val_coef_det_k: 0.0831\n",
      "Epoch 78/100\n",
      "1048/1048 [==============================] - 0s 135us/sample - loss: 20.7964 - coef_det_k: 0.9366 - val_loss: 303.9788 - val_coef_det_k: 0.0946\n",
      "Epoch 79/100\n",
      "1048/1048 [==============================] - 0s 134us/sample - loss: 21.2260 - coef_det_k: 0.9334 - val_loss: 309.6051 - val_coef_det_k: 0.0819\n",
      "Epoch 80/100\n",
      "1048/1048 [==============================] - 0s 135us/sample - loss: 23.7186 - coef_det_k: 0.9271 - val_loss: 307.7449 - val_coef_det_k: 0.0895\n",
      "Epoch 81/100\n",
      "1048/1048 [==============================] - 0s 135us/sample - loss: 22.1921 - coef_det_k: 0.9313 - val_loss: 310.8352 - val_coef_det_k: 0.0832\n",
      "Epoch 82/100\n",
      "1048/1048 [==============================] - 0s 135us/sample - loss: 21.8105 - coef_det_k: 0.9339 - val_loss: 310.4989 - val_coef_det_k: 0.0795\n",
      "Epoch 83/100\n",
      "1048/1048 [==============================] - 0s 135us/sample - loss: 22.8171 - coef_det_k: 0.9308 - val_loss: 309.4935 - val_coef_det_k: 0.0904\n",
      "Epoch 84/100\n",
      "1048/1048 [==============================] - 0s 135us/sample - loss: 21.0842 - coef_det_k: 0.9349 - val_loss: 304.1413 - val_coef_det_k: 0.0910\n",
      "Epoch 85/100\n",
      "1048/1048 [==============================] - 0s 135us/sample - loss: 20.4793 - coef_det_k: 0.9376 - val_loss: 304.7965 - val_coef_det_k: 0.0900\n",
      "Epoch 86/100\n",
      "1048/1048 [==============================] - 0s 135us/sample - loss: 22.2051 - coef_det_k: 0.9317 - val_loss: 305.5278 - val_coef_det_k: 0.0764\n",
      "Epoch 87/100\n",
      "1048/1048 [==============================] - 0s 134us/sample - loss: 21.0818 - coef_det_k: 0.9345 - val_loss: 317.9554 - val_coef_det_k: 0.0633\n",
      "Epoch 88/100\n",
      "1048/1048 [==============================] - 0s 135us/sample - loss: 21.1470 - coef_det_k: 0.9335 - val_loss: 327.0326 - val_coef_det_k: 0.0442\n",
      "Epoch 89/100\n",
      "1048/1048 [==============================] - 0s 134us/sample - loss: 21.1688 - coef_det_k: 0.9351 - val_loss: 311.6145 - val_coef_det_k: 0.0768\n",
      "Epoch 90/100\n",
      "1048/1048 [==============================] - 0s 134us/sample - loss: 19.7317 - coef_det_k: 0.9369 - val_loss: 311.9142 - val_coef_det_k: 0.0704\n",
      "Epoch 91/100\n",
      "1048/1048 [==============================] - 0s 134us/sample - loss: 19.3651 - coef_det_k: 0.9407 - val_loss: 311.4348 - val_coef_det_k: 0.0754\n",
      "Epoch 92/100\n",
      "1048/1048 [==============================] - 0s 135us/sample - loss: 20.5551 - coef_det_k: 0.9371 - val_loss: 307.4922 - val_coef_det_k: 0.0709\n",
      "Epoch 93/100\n",
      "1048/1048 [==============================] - 0s 136us/sample - loss: 22.1614 - coef_det_k: 0.9298 - val_loss: 302.4040 - val_coef_det_k: 0.0995\n",
      "Epoch 94/100\n",
      "1048/1048 [==============================] - 0s 135us/sample - loss: 19.1261 - coef_det_k: 0.9424 - val_loss: 304.3225 - val_coef_det_k: 0.0953\n",
      "Epoch 95/100\n",
      "1048/1048 [==============================] - 0s 135us/sample - loss: 22.1546 - coef_det_k: 0.9335 - val_loss: 309.1142 - val_coef_det_k: 0.0895\n",
      "Epoch 96/100\n",
      "1048/1048 [==============================] - 0s 135us/sample - loss: 19.6151 - coef_det_k: 0.9393 - val_loss: 305.5561 - val_coef_det_k: 0.0919\n",
      "Epoch 97/100\n",
      "1048/1048 [==============================] - 0s 134us/sample - loss: 20.0362 - coef_det_k: 0.9395 - val_loss: 315.2532 - val_coef_det_k: 0.0645\n",
      "Epoch 98/100\n",
      "1048/1048 [==============================] - 0s 136us/sample - loss: 21.4080 - coef_det_k: 0.9325 - val_loss: 310.5421 - val_coef_det_k: 0.0538\n",
      "Epoch 99/100\n",
      "1048/1048 [==============================] - 0s 135us/sample - loss: 22.0886 - coef_det_k: 0.9329 - val_loss: 303.2353 - val_coef_det_k: 0.1047\n",
      "Epoch 100/100\n",
      "1048/1048 [==============================] - 0s 135us/sample - loss: 20.2495 - coef_det_k: 0.9371 - val_loss: 306.6076 - val_coef_det_k: 0.0921\n"
     ]
    }
   ],
   "source": [
    "from tensorflow.keras.optimizers import Adam\n",
    "from tensorflow.keras.losses import MeanSquaredError\n",
    "\n",
    "opt = Adam(learning_rate = 0.001)\n",
    "loss = MeanSquaredError()\n",
    "model.compile(optimizer=opt, loss=loss, metrics=[coef_det_k])\n",
    "history = model.fit(X_train, y_train, epochs= 100, batch_size = 32, validation_data=(X_test,y_test))"
   ]
  },
  {
   "cell_type": "code",
   "execution_count": 104,
   "metadata": {},
   "outputs": [
    {
     "name": "stdout",
     "output_type": "stream",
     "text": [
      "dict_keys(['loss', 'coef_det_k', 'val_loss', 'val_coef_det_k'])\n"
     ]
    }
   ],
   "source": [
    "# Plot history\n",
    "\n",
    "print(history.history.keys())"
   ]
  },
  {
   "cell_type": "code",
   "execution_count": 106,
   "metadata": {},
   "outputs": [
    {
     "data": {
      "image/png": "[encoded data removed]",
      "text/plain": [
       "<Figure size 432x288 with 2 Axes>"
      ]
     },
     "metadata": {
      "needs_background": "light"
     },
     "output_type": "display_data"
    }
   ],
   "source": [
    "fig = plt.figure()\n",
    "ax1 = plt.subplot(1,2,1)\n",
    "ax2 = plt.subplot(1,2,2)\n",
    "\n",
    "ax1.plot(history.history['loss'])\n",
    "ax1.plot(history.history['val_loss'])\n",
    "ax1.legend(['Training loss', 'Validation loss'])\n",
    "\n",
    "ax2.plot(history.history['coef_det_k'])\n",
    "ax2.plot(history.history['val_coef_det_k'])\n",
    "ax2.legend(['Training R^2', 'Validation R^2'])\n",
    "\n",
    "plt.show()"
   ]
  },
  {
   "cell_type": "markdown",
   "metadata": {},
   "source": [
    "## Make your own model\n",
    "Testing your own model architectures is probably the best way to learn some intuitoin of how different parameters affect your model performance. It is important to note that you should not evaluate your model performance based on the training loss or training R^2 but rather the Validation scores. Try to make your own model that gets as high Validation scores as posible."
   ]
  },
  {
   "cell_type": "code",
   "execution_count": null,
   "metadata": {},
   "outputs": [],
   "source": [
    "my_model = Sequential()\n",
    "\n",
    "my_model.add(Embedding(,))"
   ]
  },
  {
   "cell_type": "code",
   "execution_count": null,
   "metadata": {},
   "outputs": [],
   "source": []
  }
 ],
 "metadata": {
  "kernelspec": {
   "display_name": "Python 3",
   "language": "python",
   "name": "python3"
  },
  "language_info": {
   "codemirror_mode": {
    "name": "ipython",
    "version": 3
   },
   "file_extension": ".py",
   "mimetype": "text/x-python",
   "name": "python",
   "nbconvert_exporter": "python",
   "pygments_lexer": "ipython3",
   "version": "3.6.8"
  }
 },
 "nbformat": 4,
 "nbformat_minor": 4
}
